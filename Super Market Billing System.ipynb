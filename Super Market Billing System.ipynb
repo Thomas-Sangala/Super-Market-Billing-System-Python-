{
 "cells": [
  {
   "cell_type": "code",
   "execution_count": 1,
   "id": "7446535f-4803-41a5-ba12-ee14dcf106c9",
   "metadata": {},
   "outputs": [],
   "source": [
    "# Super Market Billing System\n",
    "# products in supermarket are given below\n",
    "\n",
    "products = {\n",
    "    \"Chips\": 20,\n",
    "    \"Milk\": 30,\n",
    "    \"Bread\": 25,\n",
    "    \"Eggs\": 50,\n",
    "    \"Butter\": 40,\n",
    "    \"Cheese\": 80,\n",
    "    \"Yogurt\": 35,\n",
    "    \"Orange Juice\": 60,\n",
    "    \"Apple\": 15,\n",
    "    \"Banana\": 10,\n",
    "    \"Grapes\": 45,\n",
    "    \"Tomato\": 20,\n",
    "    \"Potato\": 25,\n",
    "    \"Onion\": 20,\n",
    "    \"Carrot\": 15,\n",
    "    \"Chicken Breast\": 150,\n",
    "    \"Ground Beef\": 200,\n",
    "    \"Pasta\": 40,\n",
    "    \"Rice\": 60,\n",
    "    \"Flour\": 50,\n",
    "    \"Sugar\": 45,\n",
    "    \"Salt\": 10,\n",
    "    \"Black Pepper\": 35,\n",
    "    \"Cereal\": 70,\n",
    "    \"Tea\": 30,\n",
    "    \"Coffee\": 90,\n",
    "    \"Baking Powder\": 20,\n",
    "    \"Ketchup\": 35,\n",
    "    \"Mayonnaise\": 40,\n",
    "    \"Mustard\": 25,\n",
    "    \"Ice Cream\": 100,\n",
    "    \"Chocolate Bar\": 30,\n",
    "    \"Cookies\": 50,\n",
    "    \"Frozen Pizza\": 120,\n",
    "    \"Soda\": 25,\n",
    "    \"Water Bottle\": 15,\n",
    "    \"Laundry Detergent\": 150,\n",
    "    \"Shampoo\": 70,\n",
    "    \"Toothpaste\": 40,\n",
    "    \"Soap\": 25\n",
    "}\n"
   ]
  },
  {
   "cell_type": "code",
   "execution_count": 11,
   "id": "400ee42c-f77f-4d1b-b558-3f3e03df8ac1",
   "metadata": {},
   "outputs": [
    {
     "name": "stdout",
     "output_type": "stream",
     "text": [
      "---------------Super Market---------------\n"
     ]
    },
    {
     "name": "stdin",
     "output_type": "stream",
     "text": [
      "Enter Customer Name Thomas Sangala\n",
      "Enter Customer Phone No 705798515\n",
      "Enter Quantity of the Product 2\n",
      "Enter Name of the Product: milk\n",
      "Do you want too add more yes\n",
      "Enter Quantity of the Product 2\n",
      "Enter Name of the Product: eggs\n",
      "Do you want too add more yes\n",
      "Enter Quantity of the Product 1\n",
      "Enter Name of the Product: bread\n",
      "Do you want too add more yes\n",
      "Enter Quantity of the Product 1\n",
      "Enter Name of the Product: chicken breast\n",
      "Do you want too add more no\n"
     ]
    },
    {
     "name": "stdout",
     "output_type": "stream",
     "text": [
      "----------------------------------------\n",
      "Customer Name:  Thomas sangala\n",
      "Phone Number:  705798515\n",
      "Milk : 30 x 2.0\n",
      "Eggs : 50 x 2.0\n",
      "Bread : 25 x 1.0\n",
      "Chicken Breast : 150 x 1.0\n",
      "Total Amount:  335.0\n",
      "Discount Offer:  5.0 % OFF\n",
      "----------------------------------------\n",
      "Actual Amount:  318.25\n",
      "----------------------------------------\n"
     ]
    },
    {
     "name": "stdin",
     "output_type": "stream",
     "text": [
      "Is there any Next person in queue? no\n"
     ]
    },
    {
     "name": "stdout",
     "output_type": "stream",
     "text": [
      "Thank You For Shopping\n",
      "     Visit Again \n"
     ]
    }
   ],
   "source": [
    "print(\"---------------Super Market---------------\")\n",
    "while True:\n",
    "    name = input(\"Enter Customer Name\").capitalize()\n",
    "    ph_no = input(\"Enter Customer Phone No\")\n",
    "    amount = 0   #amount is initialized to zero\n",
    "    cart = {}    #this cart is an empty dictionary\n",
    "    while True:\n",
    "        quantity = float(input(\"Enter Quantity of the Product\"))\n",
    "        while True:\n",
    "            product_name = input(\"Enter Name of the Product:\").title()\n",
    "            if product_name not in products.keys():\n",
    "                print(\"Try again with the correct spelling of the product\")\n",
    "            else:\n",
    "                break\n",
    "        amount += quantity * products[product_name]\n",
    "        cart[product_name] = products[product_name],\"x\",quantity\n",
    "        repeat = input(\"Do you want too add more\").lower()  #repeat is a variable for user to add more products\n",
    "        if repeat in(\"no\",\"n\"):\n",
    "            break\n",
    "    discount = 0\n",
    "    if amount <= 500:\n",
    "        discount = 0.05\n",
    "        act_amt = amount-(amount*discount)   #act_amt is a actual amount after discount % is substracted from customer bill\n",
    "    elif amount <= 1000:\n",
    "        discount = 0.10\n",
    "        act_amt = amount-(amount*discount)\n",
    "    elif amount <= 5000:\n",
    "        discount = 0.15\n",
    "        act_amt = amount-(amount*discount)\n",
    "    else:\n",
    "        discount = 0.20\n",
    "        act_amt = amount-(amount*discount)\n",
    "    print(\"-\"*40)\n",
    "    print(\"Customer Name: \",name)\n",
    "    print(\"Phone Number: \",ph_no)\n",
    "    for i,j in cart.items():\n",
    "        p,x,q = j\n",
    "        print(i,\":\",p,x,q)\n",
    "\n",
    "    print(\"Total Amount: \",amount)\n",
    "    print(\"Discount Offer: \",discount*100,\"% OFF\")\n",
    "    print(\"-\"*40)\n",
    "    print(\"Actual Amount: \",act_amt)\n",
    "    print(\"-\"*40)\n",
    "    nxt_person = input(\"Is there any Next person in queue?\").lower()\n",
    "    if nxt_person in (\"no\",\"n\"):\n",
    "        break\n",
    "print(\"\"\"Thank You For Shopping\n",
    "     Visit Again \"\"\")"
   ]
  },
  {
   "cell_type": "code",
   "execution_count": null,
   "id": "6b0b4c98-1c5d-4b3c-bfeb-ae477ce1a7d1",
   "metadata": {},
   "outputs": [],
   "source": []
  }
 ],
 "metadata": {
  "kernelspec": {
   "display_name": "Python 3 (ipykernel)",
   "language": "python",
   "name": "python3"
  },
  "language_info": {
   "codemirror_mode": {
    "name": "ipython",
    "version": 3
   },
   "file_extension": ".py",
   "mimetype": "text/x-python",
   "name": "python",
   "nbconvert_exporter": "python",
   "pygments_lexer": "ipython3",
   "version": "3.11.2"
  }
 },
 "nbformat": 4,
 "nbformat_minor": 5
}
